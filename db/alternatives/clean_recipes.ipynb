{
 "cells": [
  {
   "cell_type": "code",
   "execution_count": 1,
   "metadata": {},
   "outputs": [],
   "source": [
    "import json\n",
    "import re"
   ]
  },
  {
   "cell_type": "code",
   "execution_count": 2,
   "metadata": {},
   "outputs": [
    {
     "data": {
      "text/plain": [
       "20130"
      ]
     },
     "execution_count": 2,
     "metadata": {},
     "output_type": "execute_result"
    }
   ],
   "source": [
    "with open(\"db/full_format_recipes.json\") as f:\n",
    "    recipes = json.load(f)\n",
    "recipes[:10]\n",
    "len(recipes)"
   ]
  },
  {
   "cell_type": "code",
   "execution_count": 3,
   "metadata": {},
   "outputs": [],
   "source": [
    "def flatten(l):\n",
    "    return [item for sublist in l for item in sublist]\n"
   ]
  },
  {
   "cell_type": "code",
   "execution_count": 4,
   "metadata": {
    "scrolled": false
   },
   "outputs": [
    {
     "data": {
      "text/plain": [
       "['4 cups low-sodium vegetable or chicken stock',\n",
       " '1 cup dried brown lentils',\n",
       " '1/2 cup dried french green lentils',\n",
       " '2 stalks celery, chopped',\n",
       " '1 large carrot, peeled and chopped',\n",
       " '1 sprig fresh thyme',\n",
       " '1 teaspoon kosher salt',\n",
       " '1 medium tomato, cored, seeded, and diced',\n",
       " '1 small fuji apple, cored and diced',\n",
       " '1 tablespoon freshly squeezed lemon juice']"
      ]
     },
     "execution_count": 4,
     "metadata": {},
     "output_type": "execute_result"
    }
   ],
   "source": [
    "ingredients = flatten([r['ingredients'] for r in filter(lambda r: 'ingredients' in r, recipes)])\n",
    "ingredients = list(x.lower() for x in ingredients)\n",
    "ingredients[:10]"
   ]
  },
  {
   "cell_type": "code",
   "execution_count": 5,
   "metadata": {},
   "outputs": [
    {
     "data": {
      "text/plain": [
       "['4',\n",
       " 'cups',\n",
       " 'low',\n",
       " 'sodium',\n",
       " 'vegetable',\n",
       " 'or',\n",
       " 'chicken',\n",
       " 'stock',\n",
       " '1',\n",
       " 'cup']"
      ]
     },
     "execution_count": 5,
     "metadata": {},
     "output_type": "execute_result"
    }
   ],
   "source": [
    "ingredient_words = flatten([re.split(r\"\\W+\", i) for i in ingredients])\n",
    "ingredient_words[:10]"
   ]
  },
  {
   "cell_type": "code",
   "execution_count": null,
   "metadata": {
    "scrolled": true
   },
   "outputs": [],
   "source": [
    "list(filter(lambda x:\"sauce\" in x, ingredients))"
   ]
  },
  {
   "cell_type": "code",
   "execution_count": 7,
   "metadata": {
    "scrolled": false
   },
   "outputs": [
    {
     "data": {
      "text/plain": [
       "['cups low-sodium vegetable or chicken stock',\n",
       " 'cup dried brown lentils',\n",
       " 'cup dried french green lentils',\n",
       " 'stalks celery, chopped',\n",
       " 'large carrot, peeled and chopped',\n",
       " 'sprig fresh thyme',\n",
       " 'teaspoon kosher salt',\n",
       " 'medium tomato, cored, seeded, and diced',\n",
       " 'small fuji apple, cored and diced',\n",
       " 'tablespoon freshly squeezed lemon juice']"
      ]
     },
     "execution_count": 7,
     "metadata": {},
     "output_type": "execute_result"
    }
   ],
   "source": [
    "def sanitize(line):\n",
    "    if 'equipment' in line:\n",
    "        return None\n",
    "    line = re.sub(r\"\\((.+?)\\)\", r\"\\1\", re.sub(r\" ?[0-9/]+ ?\", \"\", line.lower()))\n",
    "    return line\n",
    "clean_ingredients = list(filter(lambda x: x, map(sanitize,ingredients)))\n",
    "clean_ingredients[:10]"
   ]
  },
  {
   "cell_type": "code",
   "execution_count": 8,
   "metadata": {},
   "outputs": [],
   "source": [
    "_ingredient_id = 0\n",
    "class Ingredient(object):\n",
    "    def __init__(self, name, regex=None):\n",
    "        global _ingredient_id\n",
    "        _ingredient_id+=1\n",
    "        self.id = _ingredient_id\n",
    "        self.name = name\n",
    "        self.regex = re.compile(regex) if regex else re.compile(f\"{name}\")\n",
    "    def __hash__(self):\n",
    "        return self.id\n",
    "    def __eq__(self, other):\n",
    "        return self.id == other.id\n",
    "    def __repr__(self):\n",
    "        return f\"Ingredient({self.id},{self.name},{self.regex})\"\n",
    "    def test(self,line):\n",
    "        return self.regex.search(line)\n",
    "    def clean(self,line):\n",
    "        return re.sub(self.regex, \"\", line)"
   ]
  },
  {
   "cell_type": "code",
   "execution_count": 9,
   "metadata": {},
   "outputs": [],
   "source": [
    "valid_ingredients = r\"\"\"\n",
    "vegetable oil\t\n",
    "white pepper\t\n",
    "orange\t\n",
    "vegetable broth\tvegetable (?:broth|stock)\n",
    "kosher salt\t\n",
    "olive oil\t\n",
    "black pepper\t\\bpepper\\b|\\bblack pepper\\b|\\bpeppercorns\\b\n",
    "seaseme seed\tsesame seeds?\n",
    "mustard seed\tmustard seeds?\n",
    "coriander seed\tcoriander seeds?\n",
    "cumin\tcumin(?: seeds?)?\n",
    "baking soda\t\n",
    "baking powder\t\n",
    "red bell pepper\tred bell peppers?\n",
    "heavy cream\theavy cream|half-and-half\n",
    "bay leaves\tbay (?:leaf|leaves)\n",
    "sea salt\t\n",
    "chicken stock\tchicken (?:broth|stock)\n",
    "stock\t\\bbroth|stock\\b\n",
    "brown lentils\t\n",
    "green lentils\t\n",
    "lemon\t\n",
    "red wine\t\n",
    "white wine\t\n",
    "scallion\t\\bscallions?\\b|\\bgreen onions\\b\n",
    "flank steak\n",
    "dijon mustard\n",
    "pork loin\n",
    "eggs\teggs?\n",
    "turkey breast\n",
    "onion\t\\bonions?\\b\n",
    "coconut milk\n",
    "chocolate chips\tchocolate chips?\n",
    "steak\t\\bsteaks?\\b\n",
    "tomato\ttomato(?:es)?\n",
    "olive\tolives?\n",
    "oil\t\\boil\\b\n",
    "soy sauce\n",
    "sage\t\\bsage\\b\n",
    "caper\t\\bcapers?\\b\n",
    "cranberry\tcranberry|cranberries\n",
    "corn\t\\bcorn\\b\n",
    "pork\t\\bpork\\b\n",
    "maple syrup\n",
    "ginger ale\n",
    "chilli powder\n",
    "green beans\n",
    "black beans\n",
    "red beans\n",
    "blackberry\tblackberries|blackberry\n",
    "beef\t\\bbeef\\b\n",
    "steak\t\\bsteak\\b\n",
    "\"\"\".strip()\n",
    "valid_ingredients += '\\n' + r\"\"\"\n",
    "dates\n",
    "lime\n",
    "tortilla\n",
    "salt\n",
    "sugar\n",
    "olive\n",
    "garlic\n",
    "cream\n",
    "flour\n",
    "chicken\n",
    "vinegar\n",
    "butter\n",
    "wine\n",
    "parsley\n",
    "vanilla\n",
    "cheese\n",
    "thyme\n",
    "mustard\n",
    "rice\n",
    "lentils\n",
    "celery\n",
    "apple\n",
    "currants\n",
    "lettuce\n",
    "baguette\n",
    "fennel\n",
    "anchovy\n",
    "gelatin\n",
    "mayonnaise\n",
    "mustard\n",
    "peas\n",
    "potatoes\n",
    "rosemary\n",
    "shallot\n",
    "cloves\n",
    "nutmeg\n",
    "whiskey\n",
    "milk\n",
    "brandy\n",
    "chives\n",
    "basil\n",
    "ginger\n",
    "lemongrass\n",
    "candlenuts\n",
    "cilantro\n",
    "peach\n",
    "spinach\n",
    "mint\n",
    "bread\n",
    "breadcrumbs\n",
    "pesto sauce\n",
    "broccoli\n",
    "pomegranate\n",
    "peanut\n",
    "crab\n",
    "cinnamon\n",
    "honey\n",
    "cornstarch\n",
    "oregano\n",
    "carrot\n",
    "allspice\n",
    "coriander\n",
    "dill\n",
    "tarragon\n",
    "walnut\n",
    "paprika\n",
    "almond\n",
    "cayenne\n",
    "turmeric\n",
    "bacon\n",
    "cardamom\n",
    "parmesan\n",
    "raisin\n",
    "pecan\n",
    "mushroom\n",
    "ketchup\n",
    "water\n",
    "avocado\n",
    "asparagus\n",
    "ham\n",
    "kumquat\n",
    "chocolate\t\n",
    "zucchini\n",
    "curry\n",
    "shrimp\n",
    "banana\n",
    "\"\"\".strip()\n",
    "\n",
    "valid_ingredients=valid_ingredients.splitlines()\n",
    "\n",
    "valid_ingredients = [\n",
    "    p.split('\\t') for p in valid_ingredients\n",
    "]\n",
    "_ingredient_id = 0\n",
    "valid_ingredients = [\n",
    "    Ingredient(i[0].strip(), i[1] if len(i) > 1 else None)\n",
    "    for i in valid_ingredients\n",
    "]"
   ]
  },
  {
   "cell_type": "code",
   "execution_count": 10,
   "metadata": {},
   "outputs": [],
   "source": [
    "bad_ingredients = \"\"\"\n",
    "cup\n",
    "tablespoons\n",
    "teaspoon\n",
    "chopped\n",
    "fresh\n",
    "cups\n",
    "or\n",
    "tablespoon\n",
    "and\n",
    "large\n",
    "teaspoons\n",
    "into\n",
    "cut\n",
    "ground\n",
    "sliced\n",
    "finely\n",
    "to\n",
    "grated\n",
    "minced\n",
    "ounces\n",
    "water\n",
    "unsalted\n",
    "dried\n",
    "pound\n",
    "plus\n",
    "of\n",
    "thinly\n",
    "leaves\n",
    "pieces\n",
    "pounds\n",
    "a\n",
    "whole\n",
    "medium\n",
    "for\n",
    "coarsely\n",
    "dry\n",
    "divided\n",
    "as\n",
    "slices\n",
    "peeled\n",
    "freshly\n",
    "small\n",
    "with\n",
    "halved\n",
    "in\n",
    "baking\n",
    "drained\n",
    "taste\n",
    "room\n",
    "strips\n",
    "thin\n",
    "the\n",
    "coarse\n",
    "Special\n",
    "quartered\n",
    "from\n",
    "zest\n",
    "stalks\n",
    "hot\n",
    ",\n",
    "sprig\n",
    "squeezed\n",
    "cored\n",
    "seeded\n",
    "diced\n",
    "extra-virgin\n",
    "toasted\n",
    "reduced-sodium\n",
    "clove\n",
    "red-\n",
    "low-fat\n",
    "into-inch\n",
    "trimmed\n",
    "lengthwise\n",
    "-ounce\n",
    "lb\n",
    "if\n",
    "desired\n",
    "\"\"\".strip().split('\\n')"
   ]
  },
  {
   "cell_type": "code",
   "execution_count": 11,
   "metadata": {},
   "outputs": [],
   "source": [
    "goods=valid_ingredients\n",
    "bads=set(bad_ingredients)\n",
    "def parser(line):\n",
    "    result = []\n",
    "    cleaned_line = line\n",
    "    for i in goods:\n",
    "        if i.test(line):\n",
    "            result.append(i)\n",
    "        cleaned_line = i.clean(cleaned_line)\n",
    "    words = cleaned_line.replace(',','').split()\n",
    "    return result, list(filter(lambda w: w not in bads, words)), line"
   ]
  },
  {
   "cell_type": "code",
   "execution_count": 16,
   "metadata": {
    "scrolled": false
   },
   "outputs": [
    {
     "name": "stdout",
     "output_type": "stream",
     "text": [
      "[Ingredient(1,vegetable oil,re.compile('vegetable oil')), Ingredient(2,white pepper,re.compile('white pepper')), Ingredient(3,orange,re.compile('orange')), Ingredient(4,vegetable broth,re.compile('vegetable (?:broth|stock)')), Ingredient(5,kosher salt,re.compile('kosher salt')), Ingredient(6,olive oil,re.compile('olive oil')), Ingredient(7,black pepper,re.compile('\\\\bpepper\\\\b|\\\\bblack pepper\\\\b|\\\\bpeppercorns\\\\b')), Ingredient(8,seaseme seed,re.compile('sesame seeds?')), Ingredient(9,mustard seed,re.compile('mustard seeds?')), Ingredient(10,coriander seed,re.compile('coriander seeds?')), Ingredient(11,cumin,re.compile('cumin(?: seeds?)?')), Ingredient(12,baking soda,re.compile('baking soda')), Ingredient(13,baking powder,re.compile('baking powder')), Ingredient(14,red bell pepper,re.compile('red bell peppers?')), Ingredient(15,heavy cream,re.compile('heavy cream|half-and-half')), Ingredient(16,bay leaves,re.compile('bay (?:leaf|leaves)')), Ingredient(17,sea salt,re.compile('sea salt')), Ingredient(18,chicken stock,re.compile('chicken (?:broth|stock)')), Ingredient(19,stock,re.compile('\\\\bbroth|stock\\\\b')), Ingredient(20,brown lentils,re.compile('brown lentils')), Ingredient(21,green lentils,re.compile('green lentils')), Ingredient(22,lemon,re.compile('lemon')), Ingredient(23,red wine,re.compile('red wine')), Ingredient(24,white wine,re.compile('white wine')), Ingredient(25,scallion,re.compile('\\\\bscallions?\\\\b|\\\\bgreen onions\\\\b')), Ingredient(26,flank steak,re.compile('flank steak')), Ingredient(27,dijon mustard,re.compile('dijon mustard')), Ingredient(28,pork loin,re.compile('pork loin')), Ingredient(29,eggs,re.compile('eggs?')), Ingredient(30,turkey breast,re.compile('turkey breast')), Ingredient(31,onion,re.compile('\\\\bonions?\\\\b')), Ingredient(32,coconut milk,re.compile('coconut milk')), Ingredient(33,chocolate chips,re.compile('chocolate chips?')), Ingredient(34,steak,re.compile('\\\\bsteaks?\\\\b')), Ingredient(35,tomato,re.compile('tomato(?:es)?')), Ingredient(36,olive,re.compile('olives?')), Ingredient(37,oil,re.compile('\\\\boil\\\\b')), Ingredient(38,soy sauce,re.compile('soy sauce')), Ingredient(39,sage,re.compile('\\\\bsage\\\\b')), Ingredient(40,caper,re.compile('\\\\bcapers?\\\\b')), Ingredient(41,cranberry,re.compile('cranberry|cranberries')), Ingredient(42,corn,re.compile('\\\\bcorn\\\\b')), Ingredient(43,pork,re.compile('\\\\bpork\\\\b')), Ingredient(44,maple syrup,re.compile('maple syrup')), Ingredient(45,ginger ale,re.compile('ginger ale')), Ingredient(46,chilli powder,re.compile('chilli powder')), Ingredient(47,green beans,re.compile('green beans')), Ingredient(48,black beans,re.compile('black beans')), Ingredient(49,red beans,re.compile('red beans')), Ingredient(50,blackberry,re.compile('blackberries|blackberry')), Ingredient(51,dates,re.compile('dates')), Ingredient(52,lime,re.compile('lime')), Ingredient(53,tortilla,re.compile('tortilla')), Ingredient(54,salt,re.compile('salt')), Ingredient(55,sugar,re.compile('sugar')), Ingredient(56,olive,re.compile('olive')), Ingredient(57,garlic,re.compile('garlic')), Ingredient(58,cream,re.compile('cream')), Ingredient(59,flour,re.compile('flour')), Ingredient(60,chicken,re.compile('chicken')), Ingredient(61,vinegar,re.compile('vinegar')), Ingredient(62,butter,re.compile('butter')), Ingredient(63,wine,re.compile('wine')), Ingredient(64,parsley,re.compile('parsley')), Ingredient(65,vanilla,re.compile('vanilla')), Ingredient(66,cheese,re.compile('cheese')), Ingredient(67,thyme,re.compile('thyme')), Ingredient(68,mustard,re.compile('mustard')), Ingredient(69,rice,re.compile('rice')), Ingredient(70,lentils,re.compile('lentils')), Ingredient(71,celery,re.compile('celery')), Ingredient(72,apple,re.compile('apple')), Ingredient(73,currants,re.compile('currants')), Ingredient(74,lettuce,re.compile('lettuce')), Ingredient(75,baguette,re.compile('baguette')), Ingredient(76,fennel,re.compile('fennel')), Ingredient(77,anchovy,re.compile('anchovy')), Ingredient(78,gelatin,re.compile('gelatin')), Ingredient(79,mayonnaise,re.compile('mayonnaise')), Ingredient(80,mustard,re.compile('mustard')), Ingredient(81,peas,re.compile('peas')), Ingredient(82,potatoes,re.compile('potatoes')), Ingredient(83,rosemary,re.compile('rosemary')), Ingredient(84,shallot,re.compile('shallot')), Ingredient(85,cloves,re.compile('cloves')), Ingredient(86,nutmeg,re.compile('nutmeg')), Ingredient(87,whiskey,re.compile('whiskey')), Ingredient(88,milk,re.compile('milk')), Ingredient(89,brandy,re.compile('brandy')), Ingredient(90,chives,re.compile('chives')), Ingredient(91,basil,re.compile('basil')), Ingredient(92,ginger,re.compile('ginger')), Ingredient(93,lemongrass,re.compile('lemongrass')), Ingredient(94,candlenuts,re.compile('candlenuts')), Ingredient(95,cilantro,re.compile('cilantro')), Ingredient(96,peach,re.compile('peach')), Ingredient(97,spinach,re.compile('spinach')), Ingredient(98,mint,re.compile('mint')), Ingredient(99,bread,re.compile('bread')), Ingredient(100,breadcrumbs,re.compile('breadcrumbs')), Ingredient(101,pesto sauce,re.compile('pesto sauce')), Ingredient(102,broccoli,re.compile('broccoli')), Ingredient(103,pomegranate,re.compile('pomegranate')), Ingredient(104,peanut,re.compile('peanut')), Ingredient(105,crab,re.compile('crab')), Ingredient(106,cinnamon,re.compile('cinnamon')), Ingredient(107,honey,re.compile('honey')), Ingredient(108,cornstarch,re.compile('cornstarch')), Ingredient(109,oregano,re.compile('oregano')), Ingredient(110,carrot,re.compile('carrot')), Ingredient(111,allspice,re.compile('allspice')), Ingredient(112,coriander,re.compile('coriander')), Ingredient(113,dill,re.compile('dill')), Ingredient(114,tarragon,re.compile('tarragon')), Ingredient(115,walnut,re.compile('walnut')), Ingredient(116,paprika,re.compile('paprika')), Ingredient(117,almond,re.compile('almond')), Ingredient(118,cayenne,re.compile('cayenne')), Ingredient(119,turmeric,re.compile('turmeric')), Ingredient(120,bacon,re.compile('bacon')), Ingredient(121,cardamom,re.compile('cardamom')), Ingredient(122,parmesan,re.compile('parmesan')), Ingredient(123,raisin,re.compile('raisin')), Ingredient(124,pecan,re.compile('pecan')), Ingredient(125,mushroom,re.compile('mushroom')), Ingredient(126,ketchup,re.compile('ketchup')), Ingredient(127,water,re.compile('water')), Ingredient(128,avocado,re.compile('avocado')), Ingredient(129,asparagus,re.compile('asparagus')), Ingredient(130,ham,re.compile('ham')), Ingredient(131,kumquat,re.compile('kumquat')), Ingredient(132,chocolate,re.compile('chocolate')), Ingredient(133,zucchini,re.compile('zucchini')), Ingredient(134,curry,re.compile('curry')), Ingredient(135,shrimp,re.compile('shrimp')), Ingredient(136,banana,re.compile('banana'))]\n"
     ]
    },
    {
     "data": {
      "text/plain": [
       "['chicken stock',\n",
       " 'brown lentils',\n",
       " 'green lentils',\n",
       " 'celery',\n",
       " 'carrot',\n",
       " 'thyme',\n",
       " 'kosher salt',\n",
       " 'tomato',\n",
       " 'apple',\n",
       " 'lemon']"
      ]
     },
     "execution_count": 16,
     "metadata": {},
     "output_type": "execute_result"
    }
   ],
   "source": [
    "print(valid_ingredients)\n",
    "list(i[0][0].name for i in map(parser, clean_ingredients[:10]))"
   ]
  },
  {
   "cell_type": "code",
   "execution_count": null,
   "metadata": {},
   "outputs": [],
   "source": [
    "import multiprocessing as mp\n",
    "\n",
    "num_cores = mp.cpu_count()\n",
    "\n",
    "def do_task(r):\n",
    "    start, end = r\n",
    "    return map(parser, clean_ingredients[start:end])\n",
    "\n",
    "parse_results=[]\n",
    "with mp.Pool(num_cores) as pool:\n",
    "    N = len(clean_ingredients)\n",
    "    step = N // num_cores\n",
    "    tasks = []\n",
    "    for i in range(num_cores):\n",
    "        tasks.append((i*step, (i+1)*step))\n",
    "    for result in pool.map(do_task, tasks):\n",
    "        parse_results+=result\n",
    "print(len(parse_results))"
   ]
  },
  {
   "cell_type": "code",
   "execution_count": null,
   "metadata": {
    "scrolled": true
   },
   "outputs": [],
   "source": [
    "for i, bad, orig in parse_results:\n",
    "    if not i:\n",
    "        print(f\"=====\\n{orig}\\n{i}\\n{bad}\")"
   ]
  },
  {
   "cell_type": "code",
   "execution_count": null,
   "metadata": {},
   "outputs": [],
   "source": [
    "bad_words={}\n",
    "bad_results=[]\n",
    "for i, bad, orig in parse_results:\n",
    "    if not i:\n",
    "        bad_results.append((i, bad, orig))\n",
    "        for w in bad:\n",
    "            if w in bad_words:\n",
    "                bad_words[w]+=1\n",
    "            else:\n",
    "                bad_words[w]=1\n",
    "len(bad_words)\n",
    "for w in sorted(list(bad_words.keys()),key=lambda w: bad_words[w], reverse = True):\n",
    "    print(f\"{w}\\t{bad_words[w]}\")"
   ]
  },
  {
   "cell_type": "code",
   "execution_count": null,
   "metadata": {},
   "outputs": [],
   "source": [
    "bad_count = 0\n",
    "for i,_,_ in parse_results:\n",
    "    if not i:\n",
    "        bad_count += 1\n",
    "print(bad_count / len(parse_results))"
   ]
  },
  {
   "cell_type": "code",
   "execution_count": 25,
   "metadata": {},
   "outputs": [],
   "source": [
    "bad_count = 0\n",
    "for recipe in recipes:\n",
    "    if 'ingredients' not in recipe:\n",
    "        bad_count += 1\n",
    "        continue\n",
    "    bad_flag = False\n",
    "    local_count = 0\n",
    "    for ingredient in recipe['ingredients']:\n",
    "        ing = sanitize(ingredient)\n",
    "        if not ing:\n",
    "            continue\n",
    "        i, bad, orig = parser(ing)\n",
    "        if not i:\n",
    "            #print(orig + '\\n' + repr(bad))\n",
    "            bad_flag = True\n",
    "            local_count += 1\n",
    "    if local_count >= 2:\n",
    "        bad_count+=1\n",
    "    recipe['bad']=local_count\n",
    "    #if bad_flag: print(\"================\")"
   ]
  },
  {
   "cell_type": "code",
   "execution_count": 26,
   "metadata": {},
   "outputs": [
    {
     "name": "stdout",
     "output_type": "stream",
     "text": [
      "11046+9084/20130\t0.4512667660208644\n",
      "0.4512667660208644\n"
     ]
    }
   ],
   "source": [
    "print(f\"{len(recipes)-bad_count}+{bad_count}/{len(recipes)}\\t{bad_count/len(recipes)}\")    \n",
    "print(bad_count / len(recipes))"
   ]
  },
  {
   "cell_type": "code",
   "execution_count": null,
   "metadata": {},
   "outputs": [],
   "source": [
    "valid_ingredients"
   ]
  },
  {
   "cell_type": "code",
   "execution_count": 48,
   "metadata": {},
   "outputs": [],
   "source": [
    "ingredient_json = [\n",
    "    {\"id\": i.id, \"name\": i.name, \"pattern\": i.regex.pattern} for i in valid_ingredients\n",
    "]"
   ]
  },
  {
   "cell_type": "code",
   "execution_count": 49,
   "metadata": {},
   "outputs": [
    {
     "data": {
      "text/plain": [
       "[{'id': 1, 'name': 'vegetable oil', 'pattern': 'vegetable oil'},\n",
       " {'id': 2, 'name': 'white pepper', 'pattern': 'white pepper'},\n",
       " {'id': 3, 'name': 'orange', 'pattern': 'orange'},\n",
       " {'id': 4, 'name': 'vegetable broth', 'pattern': 'vegetable (?:broth|stock)'},\n",
       " {'id': 5, 'name': 'kosher salt', 'pattern': 'kosher salt'},\n",
       " {'id': 6, 'name': 'olive oil', 'pattern': 'olive oil'},\n",
       " {'id': 7,\n",
       "  'name': 'black pepper',\n",
       "  'pattern': '\\\\bpepper\\\\b|\\\\bblack pepper\\\\b|\\\\bpeppercorns\\\\b'},\n",
       " {'id': 8, 'name': 'seaseme seed', 'pattern': 'sesame seeds?'},\n",
       " {'id': 9, 'name': 'mustard seed', 'pattern': 'mustard seeds?'},\n",
       " {'id': 10, 'name': 'coriander seed', 'pattern': 'coriander seeds?'},\n",
       " {'id': 11, 'name': 'cumin', 'pattern': 'cumin(?: seeds?)?'},\n",
       " {'id': 12, 'name': 'baking soda', 'pattern': 'baking soda'},\n",
       " {'id': 13, 'name': 'baking powder', 'pattern': 'baking powder'},\n",
       " {'id': 14, 'name': 'red bell pepper', 'pattern': 'red bell peppers?'},\n",
       " {'id': 15, 'name': 'heavy cream', 'pattern': 'heavy cream|half-and-half'},\n",
       " {'id': 16, 'name': 'bay leaves', 'pattern': 'bay (?:leaf|leaves)'},\n",
       " {'id': 17, 'name': 'sea salt', 'pattern': 'sea salt'},\n",
       " {'id': 18, 'name': 'chicken stock', 'pattern': 'chicken (?:broth|stock)'},\n",
       " {'id': 19, 'name': 'stock', 'pattern': '\\\\bbroth|stock\\\\b'},\n",
       " {'id': 20, 'name': 'brown lentils', 'pattern': 'brown lentils'},\n",
       " {'id': 21, 'name': 'green lentils', 'pattern': 'green lentils'},\n",
       " {'id': 22, 'name': 'lemon', 'pattern': 'lemon'},\n",
       " {'id': 23, 'name': 'red wine', 'pattern': 'red wine'},\n",
       " {'id': 24, 'name': 'white wine', 'pattern': 'white wine'},\n",
       " {'id': 25,\n",
       "  'name': 'scallion',\n",
       "  'pattern': '\\\\bscallions?\\\\b|\\\\bgreen onions\\\\b'},\n",
       " {'id': 26, 'name': 'flank steak', 'pattern': 'flank steak'},\n",
       " {'id': 27, 'name': 'dijon mustard', 'pattern': 'dijon mustard'},\n",
       " {'id': 28, 'name': 'pork loin', 'pattern': 'pork loin'},\n",
       " {'id': 29, 'name': 'eggs', 'pattern': 'eggs?'},\n",
       " {'id': 30, 'name': 'turkey breast', 'pattern': 'turkey breast'},\n",
       " {'id': 31, 'name': 'onion', 'pattern': '\\\\bonions?\\\\b'},\n",
       " {'id': 32, 'name': 'coconut milk', 'pattern': 'coconut milk'},\n",
       " {'id': 33, 'name': 'chocolate chips', 'pattern': 'chocolate chips?'},\n",
       " {'id': 34, 'name': 'steak', 'pattern': '\\\\bsteaks?\\\\b'},\n",
       " {'id': 35, 'name': 'tomato', 'pattern': 'tomato(?:es)?'},\n",
       " {'id': 36, 'name': 'olive', 'pattern': 'olives?'},\n",
       " {'id': 37, 'name': 'oil', 'pattern': '\\\\boil\\\\b'},\n",
       " {'id': 38, 'name': 'soy sauce', 'pattern': 'soy sauce'},\n",
       " {'id': 39, 'name': 'sage', 'pattern': '\\\\bsage\\\\b'},\n",
       " {'id': 40, 'name': 'caper', 'pattern': '\\\\bcapers?\\\\b'},\n",
       " {'id': 41, 'name': 'cranberry', 'pattern': 'cranberry|cranberries'},\n",
       " {'id': 42, 'name': 'corn', 'pattern': '\\\\bcorn\\\\b'},\n",
       " {'id': 43, 'name': 'pork', 'pattern': '\\\\bpork\\\\b'},\n",
       " {'id': 44, 'name': 'maple syrup', 'pattern': 'maple syrup'},\n",
       " {'id': 45, 'name': 'ginger ale', 'pattern': 'ginger ale'},\n",
       " {'id': 46, 'name': 'chilli powder', 'pattern': 'chilli powder'},\n",
       " {'id': 47, 'name': 'green beans', 'pattern': 'green beans'},\n",
       " {'id': 48, 'name': 'black beans', 'pattern': 'black beans'},\n",
       " {'id': 49, 'name': 'red beans', 'pattern': 'red beans'},\n",
       " {'id': 50, 'name': 'blackberry', 'pattern': 'blackberries|blackberry'},\n",
       " {'id': 51, 'name': 'dates', 'pattern': 'dates'},\n",
       " {'id': 52, 'name': 'lime', 'pattern': 'lime'},\n",
       " {'id': 53, 'name': 'tortilla', 'pattern': 'tortilla'},\n",
       " {'id': 54, 'name': 'salt', 'pattern': 'salt'},\n",
       " {'id': 55, 'name': 'sugar', 'pattern': 'sugar'},\n",
       " {'id': 56, 'name': 'olive', 'pattern': 'olive'},\n",
       " {'id': 57, 'name': 'garlic', 'pattern': 'garlic'},\n",
       " {'id': 58, 'name': 'cream', 'pattern': 'cream'},\n",
       " {'id': 59, 'name': 'flour', 'pattern': 'flour'},\n",
       " {'id': 60, 'name': 'chicken', 'pattern': 'chicken'},\n",
       " {'id': 61, 'name': 'vinegar', 'pattern': 'vinegar'},\n",
       " {'id': 62, 'name': 'butter', 'pattern': 'butter'},\n",
       " {'id': 63, 'name': 'wine', 'pattern': 'wine'},\n",
       " {'id': 64, 'name': 'parsley', 'pattern': 'parsley'},\n",
       " {'id': 65, 'name': 'vanilla', 'pattern': 'vanilla'},\n",
       " {'id': 66, 'name': 'cheese', 'pattern': 'cheese'},\n",
       " {'id': 67, 'name': 'thyme', 'pattern': 'thyme'},\n",
       " {'id': 68, 'name': 'mustard', 'pattern': 'mustard'},\n",
       " {'id': 69, 'name': 'rice', 'pattern': 'rice'},\n",
       " {'id': 70, 'name': 'lentils', 'pattern': 'lentils'},\n",
       " {'id': 71, 'name': 'celery', 'pattern': 'celery'},\n",
       " {'id': 72, 'name': 'apple', 'pattern': 'apple'},\n",
       " {'id': 73, 'name': 'currants', 'pattern': 'currants'},\n",
       " {'id': 74, 'name': 'lettuce', 'pattern': 'lettuce'},\n",
       " {'id': 75, 'name': 'baguette', 'pattern': 'baguette'},\n",
       " {'id': 76, 'name': 'fennel', 'pattern': 'fennel'},\n",
       " {'id': 77, 'name': 'anchovy', 'pattern': 'anchovy'},\n",
       " {'id': 78, 'name': 'gelatin', 'pattern': 'gelatin'},\n",
       " {'id': 79, 'name': 'mayonnaise', 'pattern': 'mayonnaise'},\n",
       " {'id': 80, 'name': 'mustard', 'pattern': 'mustard'},\n",
       " {'id': 81, 'name': 'peas', 'pattern': 'peas'},\n",
       " {'id': 82, 'name': 'potatoes', 'pattern': 'potatoes'},\n",
       " {'id': 83, 'name': 'rosemary', 'pattern': 'rosemary'},\n",
       " {'id': 84, 'name': 'shallot', 'pattern': 'shallot'},\n",
       " {'id': 85, 'name': 'cloves', 'pattern': 'cloves'},\n",
       " {'id': 86, 'name': 'nutmeg', 'pattern': 'nutmeg'},\n",
       " {'id': 87, 'name': 'whiskey', 'pattern': 'whiskey'},\n",
       " {'id': 88, 'name': 'milk', 'pattern': 'milk'},\n",
       " {'id': 89, 'name': 'brandy', 'pattern': 'brandy'},\n",
       " {'id': 90, 'name': 'chives', 'pattern': 'chives'},\n",
       " {'id': 91, 'name': 'basil', 'pattern': 'basil'},\n",
       " {'id': 92, 'name': 'ginger', 'pattern': 'ginger'},\n",
       " {'id': 93, 'name': 'lemongrass', 'pattern': 'lemongrass'},\n",
       " {'id': 94, 'name': 'candlenuts', 'pattern': 'candlenuts'},\n",
       " {'id': 95, 'name': 'cilantro', 'pattern': 'cilantro'},\n",
       " {'id': 96, 'name': 'peach', 'pattern': 'peach'},\n",
       " {'id': 97, 'name': 'spinach', 'pattern': 'spinach'},\n",
       " {'id': 98, 'name': 'mint', 'pattern': 'mint'},\n",
       " {'id': 99, 'name': 'bread', 'pattern': 'bread'},\n",
       " {'id': 100, 'name': 'breadcrumbs', 'pattern': 'breadcrumbs'},\n",
       " {'id': 101, 'name': 'pesto sauce', 'pattern': 'pesto sauce'},\n",
       " {'id': 102, 'name': 'broccoli', 'pattern': 'broccoli'},\n",
       " {'id': 103, 'name': 'pomegranate', 'pattern': 'pomegranate'},\n",
       " {'id': 104, 'name': 'peanut', 'pattern': 'peanut'},\n",
       " {'id': 105, 'name': 'crab', 'pattern': 'crab'},\n",
       " {'id': 106, 'name': 'cinnamon', 'pattern': 'cinnamon'},\n",
       " {'id': 107, 'name': 'honey', 'pattern': 'honey'},\n",
       " {'id': 108, 'name': 'cornstarch', 'pattern': 'cornstarch'},\n",
       " {'id': 109, 'name': 'oregano', 'pattern': 'oregano'},\n",
       " {'id': 110, 'name': 'carrot', 'pattern': 'carrot'},\n",
       " {'id': 111, 'name': 'allspice', 'pattern': 'allspice'},\n",
       " {'id': 112, 'name': 'coriander', 'pattern': 'coriander'},\n",
       " {'id': 113, 'name': 'dill', 'pattern': 'dill'},\n",
       " {'id': 114, 'name': 'tarragon', 'pattern': 'tarragon'},\n",
       " {'id': 115, 'name': 'walnut', 'pattern': 'walnut'},\n",
       " {'id': 116, 'name': 'paprika', 'pattern': 'paprika'},\n",
       " {'id': 117, 'name': 'almond', 'pattern': 'almond'},\n",
       " {'id': 118, 'name': 'cayenne', 'pattern': 'cayenne'},\n",
       " {'id': 119, 'name': 'turmeric', 'pattern': 'turmeric'},\n",
       " {'id': 120, 'name': 'bacon', 'pattern': 'bacon'},\n",
       " {'id': 121, 'name': 'cardamom', 'pattern': 'cardamom'},\n",
       " {'id': 122, 'name': 'parmesan', 'pattern': 'parmesan'},\n",
       " {'id': 123, 'name': 'raisin', 'pattern': 'raisin'},\n",
       " {'id': 124, 'name': 'pecan', 'pattern': 'pecan'},\n",
       " {'id': 125, 'name': 'mushroom', 'pattern': 'mushroom'},\n",
       " {'id': 126, 'name': 'ketchup', 'pattern': 'ketchup'},\n",
       " {'id': 127, 'name': 'water', 'pattern': 'water'},\n",
       " {'id': 128, 'name': 'avocado', 'pattern': 'avocado'},\n",
       " {'id': 129, 'name': 'asparagus', 'pattern': 'asparagus'},\n",
       " {'id': 130, 'name': 'ham', 'pattern': 'ham'},\n",
       " {'id': 131, 'name': 'kumquat', 'pattern': 'kumquat'},\n",
       " {'id': 132, 'name': 'chocolate', 'pattern': 'chocolate'},\n",
       " {'id': 133, 'name': 'zucchini', 'pattern': 'zucchini'},\n",
       " {'id': 134, 'name': 'curry', 'pattern': 'curry'},\n",
       " {'id': 135, 'name': 'shrimp', 'pattern': 'shrimp'},\n",
       " {'id': 136, 'name': 'banana', 'pattern': 'banana'}]"
      ]
     },
     "execution_count": 49,
     "metadata": {},
     "output_type": "execute_result"
    }
   ],
   "source": [
    "ingredient_json"
   ]
  },
  {
   "cell_type": "code",
   "execution_count": 58,
   "metadata": {},
   "outputs": [
    {
     "name": "stdout",
     "output_type": "stream",
     "text": [
      "0.776602086438152\n"
     ]
    }
   ],
   "source": [
    "missing_count = 0\n",
    "for recipe in recipes:\n",
    "    missing = False\n",
    "    if 'ingredients' in recipe:\n",
    "        recipe['ingredient_ids']=set()\n",
    "        for ingredient in recipe['ingredients']:\n",
    "            ing = sanitize(ingredient)\n",
    "            if not ing:\n",
    "                continue\n",
    "            i, bad, orig = parser(ing)\n",
    "            if i:\n",
    "                recipe['ingredient_ids'].add(i[0].id)\n",
    "            else:\n",
    "                missing = True\n",
    "        if missing:\n",
    "            missing_count += 1\n",
    "        recipe['ingredient_ids']=list(recipe['ingredient_ids'])\n",
    "print(missing_count/len(recipes))"
   ]
  },
  {
   "cell_type": "code",
   "execution_count": 51,
   "metadata": {},
   "outputs": [],
   "source": [
    "xs = {}\n",
    "for r in recipes:\n",
    "    if 'bad' in r:\n",
    "        c = r['bad']\n",
    "        if c in xs:\n",
    "            xs[c]+=1\n",
    "        else:\n",
    "            xs[c]=1"
   ]
  },
  {
   "cell_type": "code",
   "execution_count": 52,
   "metadata": {},
   "outputs": [
    {
     "data": {
      "text/plain": [
       "{0: 4478,\n",
       " 1: 6568,\n",
       " 3: 2559,\n",
       " 4: 1105,\n",
       " 2: 4681,\n",
       " 5: 428,\n",
       " 6: 176,\n",
       " 7: 66,\n",
       " 9: 11,\n",
       " 8: 29,\n",
       " 11: 2,\n",
       " 15: 1,\n",
       " 10: 4,\n",
       " 17: 1,\n",
       " 12: 1,\n",
       " 14: 1}"
      ]
     },
     "execution_count": 52,
     "metadata": {},
     "output_type": "execute_result"
    }
   ],
   "source": [
    "xs"
   ]
  },
  {
   "cell_type": "code",
   "execution_count": 53,
   "metadata": {},
   "outputs": [
    {
     "name": "stdout",
     "output_type": "stream",
     "text": [
      "15748\n"
     ]
    }
   ],
   "source": [
    "total = 0\n",
    "for i in range(3, 15):\n",
    "    if i in xs:\n",
    "        total += xs[i]\n",
    "print(len(recipes)-total)"
   ]
  },
  {
   "cell_type": "code",
   "execution_count": 60,
   "metadata": {},
   "outputs": [],
   "source": [
    "good_recipes = list(filter(lambda r: 'bad' in r and r['bad']<=2, recipes))"
   ]
  },
  {
   "cell_type": "code",
   "execution_count": 61,
   "metadata": {},
   "outputs": [],
   "source": [
    "keys = ['directions', 'fat', 'categories', 'calories', 'desc', 'protein', 'rating', 'title', 'ingredients', 'sodium', 'ingredient_ids']"
   ]
  },
  {
   "cell_type": "code",
   "execution_count": 62,
   "metadata": {},
   "outputs": [],
   "source": [
    "recipes_json = [{ key : gr[key] for key in keys} for gr in good_recipes]"
   ]
  },
  {
   "cell_type": "code",
   "execution_count": 63,
   "metadata": {},
   "outputs": [],
   "source": [
    "with open('./ingredients.json', 'w') as f:\n",
    "    json.dump(ingredient_json, f)\n",
    "with open('./recipes.json', 'w') as f:\n",
    "    json.dump(recipes_json, f)"
   ]
  },
  {
   "cell_type": "code",
   "execution_count": null,
   "metadata": {},
   "outputs": [],
   "source": []
  },
  {
   "cell_type": "code",
   "execution_count": null,
   "metadata": {},
   "outputs": [],
   "source": []
  }
 ],
 "metadata": {
  "kernelspec": {
   "display_name": "Python 3",
   "language": "python",
   "name": "python3"
  },
  "language_info": {
   "codemirror_mode": {
    "name": "ipython",
    "version": 3
   },
   "file_extension": ".py",
   "mimetype": "text/x-python",
   "name": "python",
   "nbconvert_exporter": "python",
   "pygments_lexer": "ipython3",
   "version": "3.7.6"
  }
 },
 "nbformat": 4,
 "nbformat_minor": 4
}
